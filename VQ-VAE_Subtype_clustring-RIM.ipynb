{
 "cells": [
  {
   "cell_type": "code",
   "execution_count": 1,
   "metadata": {},
   "outputs": [],
   "source": [
    "import os\n",
    "import pickle\n",
    "import numpy as np\n",
    "import pandas as pd\n",
    "import math\n",
    "from itertools import chain\n",
    "import itertools\n",
    "import random\n",
    "import tqdm\n",
    "import torch\n",
    "import torch.nn as nn\n",
    "import torch.optim as optim\n",
    "import torch.nn.functional as F\n",
    "from torch.autograd.function import Function\n",
    "import torch.nn.utils.prune as prune\n",
    "from IPython.display import display, HTML\n",
    "import matplotlib.pyplot as plt\n",
    "from scipy import signal\n",
    "from scipy.fft import fftshift\n",
    "\n",
    "from einops import rearrange, repeat\n",
    "from einops.layers.torch import Rearrange\n",
    "from torch import nn, einsum\n",
    "import logging\n",
    "from functools import partial\n",
    "from collections import OrderedDict\n",
    "import seaborn as sns\n",
    "import matplotlib as mp\n",
    "import time\n",
    "from scipy.signal import savgol_filter\n",
    "from mpl_toolkits.mplot3d import Axes3D\n",
    "from matplotlib.patches import Patch\n",
    "from matplotlib.colors import ListedColormap\n",
    "\n",
    "from sklearn.model_selection import train_test_split\n",
    "from sklearn.metrics import classification_report, silhouette_score, silhouette_samples\n",
    "from sklearn.decomposition import PCA\n",
    "from sklearn import metrics\n",
    "from sklearn.manifold import TSNE\n",
    "from sklearn.datasets import make_blobs\n",
    "from sklearn.cluster import KMeans\n",
    "from sklearn.metrics import silhouette_score\n",
    "from sklearn.preprocessing import StandardScaler"
   ]
  },
  {
   "cell_type": "code",
   "execution_count": null,
   "metadata": {},
   "outputs": [],
   "source": [
    "!gpustat\n",
    "!nvidia-smi\n",
    "!free\n",
    "torch.cuda.is_available()"
   ]
  },
  {
   "cell_type": "code",
   "execution_count": 3,
   "metadata": {},
   "outputs": [
    {
     "name": "stdout",
     "output_type": "stream",
     "text": [
      "(638, 1, 11327)\n"
     ]
    }
   ],
   "source": [
    "dat = pd.read_csv('xxx')\n",
    "dat = dat.drop(dat.columns[[0]], axis=1)\n",
    "dat = dat.T\n",
    "feature_num = dat.shape[1]\n",
    "data_num = dat.shape[0]\n",
    "dat = dat.values.reshape(-1,1,feature_num)\n",
    "print(dat.shape)"
   ]
  },
  {
   "cell_type": "code",
   "execution_count": 4,
   "metadata": {},
   "outputs": [],
   "source": [
    "class nolabel_set(torch.utils.data.Dataset):\n",
    "    def __init__(self, data ,transform = None):\n",
    "        self.transform = transform\n",
    "\n",
    "        self.data = data\n",
    "        self.datanum = len(data)\n",
    "\n",
    "    def __len__(self):\n",
    "        return self.datanum\n",
    "\n",
    "    def __getitem__(self, idx):\n",
    "        \n",
    "        out_data = torch.tensor(self.data[idx]).float()\n",
    "        \n",
    "        if self.transform:\n",
    "            out_data = self.transform(out_data)\n",
    "\n",
    "        return out_data"
   ]
  },
  {
   "cell_type": "code",
   "execution_count": 5,
   "metadata": {},
   "outputs": [
    {
     "name": "stdout",
     "output_type": "stream",
     "text": [
      "data num: 638\n"
     ]
    }
   ],
   "source": [
    "train_data_set = nolabel_set(data = dat)\n",
    "train_dataloader = torch.utils.data.DataLoader(train_data_set, batch_size = 256, shuffle=True)\n",
    "print('data num:',len(dat))"
   ]
  },
  {
   "cell_type": "code",
   "execution_count": 6,
   "metadata": {},
   "outputs": [],
   "source": [
    "RIM_cluster_num = 20"
   ]
  },
  {
   "cell_type": "code",
   "execution_count": 7,
   "metadata": {},
   "outputs": [],
   "source": [
    "class VectorQuantizer(nn.Module):\n",
    "    def __init__(self, num_embeddings, embedding_dim, commitment_cost):\n",
    "        super(VectorQuantizer, self).__init__()\n",
    "        \n",
    "        self._embedding_dim = embedding_dim\n",
    "        self._num_embeddings = num_embeddings\n",
    "        \n",
    "        self._embedding = nn.Embedding(self._num_embeddings, self._embedding_dim)\n",
    "        self._embedding.weight.data.uniform_(-1/self._num_embeddings, 1/self._num_embeddings)\n",
    "        self._commitment_cost = commitment_cost\n",
    "        \n",
    "        self.to_cls = nn.Sequential(\n",
    "            #Set cluster number\n",
    "            nn.Linear(embedding_dim, RIM_cluster_num), \n",
    "            nn.Sigmoid()\n",
    "        )\n",
    "        \n",
    "    def forward(self, inputs):\n",
    "        # convert inputs from BCHW -> BHWC\n",
    "        inputs = rearrange(inputs, 'b c l -> b l c')\n",
    "        inputs = inputs.contiguous()\n",
    "        #inputs = inputs.permute(0, 2, 1).contiguous()\n",
    "        input_shape = inputs.shape\n",
    "        \n",
    "        # Flatten input\n",
    "        flat_input = inputs.view(-1, self._embedding_dim)\n",
    "        \n",
    "        # Calculate distances\n",
    "        distances = (torch.sum(flat_input**2, dim=1, keepdim=True) \n",
    "                    + torch.sum(self._embedding.weight**2, dim=1)\n",
    "                    - 2 * torch.matmul(flat_input, self._embedding.weight.t()))\n",
    "            \n",
    "        # Encoding\n",
    "        encoding_indices = torch.argmin(distances, dim=1).unsqueeze(1)\n",
    "        encodings = torch.zeros(encoding_indices.shape[0], self._num_embeddings, device=inputs.device)\n",
    "        encodings.scatter_(1, encoding_indices, 1)\n",
    "        \n",
    "        # Quantize\n",
    "        quantized = torch.matmul(encodings, self._embedding.weight)\n",
    "        \n",
    "        #Norm(0,1)\n",
    "#         quantized = quantized.view(quantized.size(0), -1)\n",
    "#         quantized -= quantized.min(1, keepdim=True)[0]\n",
    "#         quantized /= quantized.max(1, keepdim=True)[0]     \n",
    "        \n",
    "        #Get cls \n",
    "        cls = self.to_cls(quantized)\n",
    "        \n",
    "        #Unflatten\n",
    "        quantized = quantized.view(input_shape)\n",
    "               \n",
    "        # Loss\n",
    "        e_latent_loss = F.mse_loss(quantized.detach(), inputs)\n",
    "        q_latent_loss = F.mse_loss(quantized, inputs.detach())\n",
    "        loss = q_latent_loss + self._commitment_cost * e_latent_loss\n",
    "        \n",
    "        quantized = inputs + (quantized - inputs).detach()\n",
    "        quantized = rearrange(quantized, 'b c l -> b l c')\n",
    "        quantized = quantized.contiguous()\n",
    "                \n",
    "        avg_probs = torch.mean(encodings, dim=0)\n",
    "        perplexity = torch.exp(-torch.sum(avg_probs * torch.log(avg_probs + 1e-10)))\n",
    "        \n",
    "        # convert quantized from BHWC -> BCHW\n",
    "        #return loss, quantized.permute(0, 3, 1, 2).contiguous(), perplexity, encodings\n",
    "        return loss, quantized, perplexity, encodings, cls\n",
    "    \n",
    "class VectorQuantizerEMA(nn.Module):\n",
    "    def __init__(self, num_embeddings, embedding_dim, commitment_cost, decay, epsilon=1e-5):\n",
    "        super(VectorQuantizerEMA, self).__init__()\n",
    "        \n",
    "        self._embedding_dim = embedding_dim\n",
    "        self._num_embeddings = num_embeddings\n",
    "        \n",
    "        self._embedding = nn.Embedding(self._num_embeddings, self._embedding_dim)\n",
    "        self._embedding.weight.data.normal_()\n",
    "        self._commitment_cost = commitment_cost\n",
    "        \n",
    "        self.register_buffer('_ema_cluster_size', torch.zeros(num_embeddings))\n",
    "        self._ema_w = nn.Parameter(torch.Tensor(num_embeddings, self._embedding_dim))\n",
    "        self._ema_w.data.normal_()\n",
    "        \n",
    "        self._decay = decay\n",
    "        self._epsilon = epsilon\n",
    "\n",
    "    def forward(self, inputs):\n",
    "        # convert inputs from BCHW -> BHWC\n",
    "        inputs = rearrange(inputs, 'b c l -> b l c')\n",
    "        inputs = inputs.contiguous()\n",
    "        #inputs = inputs.permute(0, 2, 1).contiguous()\n",
    "        input_shape = inputs.shape\n",
    "        \n",
    "        # Flatten input\n",
    "        flat_input = inputs.view(-1, self._embedding_dim)\n",
    "        \n",
    "        # Calculate distances\n",
    "        distances = (torch.sum(flat_input**2, dim=1, keepdim=True) \n",
    "                    + torch.sum(self._embedding.weight**2, dim=1)\n",
    "                    - 2 * torch.matmul(flat_input, self._embedding.weight.t()))\n",
    "            \n",
    "        # Encoding\n",
    "        encoding_indices = torch.argmin(distances, dim=1).unsqueeze(1)\n",
    "        encodings = torch.zeros(encoding_indices.shape[0], self._num_embeddings, device=inputs.device)\n",
    "        encodings.scatter_(1, encoding_indices, 1)\n",
    "        \n",
    "        # Quantize and unflatten\n",
    "        quantized = torch.matmul(encodings, self._embedding.weight).view(input_shape)\n",
    "                         \n",
    "        # Use EMA to update the embedding vectors\n",
    "        if self.training:\n",
    "            self._ema_cluster_size = self._ema_cluster_size * self._decay + \\\n",
    "                                     (1 - self._decay) * torch.sum(encodings, 0)\n",
    "            \n",
    "            # Laplace smoothing of the cluster size\n",
    "            n = torch.sum(self._ema_cluster_size.data)\n",
    "            self._ema_cluster_size = (\n",
    "                (self._ema_cluster_size + self._epsilon)\n",
    "                / (n + self._num_embeddings * self._epsilon) * n)\n",
    "            \n",
    "            dw = torch.matmul(encodings.t(), flat_input)\n",
    "            self._ema_w = nn.Parameter(self._ema_w * self._decay + (1 - self._decay) * dw)\n",
    "            \n",
    "            self._embedding.weight = nn.Parameter(self._ema_w / self._ema_cluster_size.unsqueeze(1))\n",
    "        \n",
    "        # Loss\n",
    "        e_latent_loss = F.mse_loss(quantized.detach(), inputs)\n",
    "        loss = self._commitment_cost * e_latent_loss\n",
    "        \n",
    "        # Straight Through Estimator\n",
    "        quantized = inputs + (quantized - inputs).detach()\n",
    "        quantized = rearrange(quantized, 'b c l -> b l c')\n",
    "        quantized = quantized.contiguous()\n",
    "        avg_probs = torch.mean(encodings, dim=0)\n",
    "        perplexity = torch.exp(-torch.sum(avg_probs * torch.log(avg_probs + 1e-10)))\n",
    "                       \n",
    "        # convert quantized from BHWC -> BCHW\n",
    "        #return loss, quantized.permute(0, 3, 1, 2).contiguous(), perplexity, encodings\n",
    "        return loss, quantized, perplexity, encodings   "
   ]
  },
  {
   "cell_type": "code",
   "execution_count": 8,
   "metadata": {},
   "outputs": [],
   "source": [
    "class ResidualStack(nn.Module):\n",
    "    def __init__(self, encoder_dim):\n",
    "        super(ResidualStack, self).__init__()\n",
    "        \n",
    "        self.block = nn.Sequential(\n",
    "            nn.Linear(encoder_dim, 64),\n",
    "            nn.ReLU(True),\n",
    "            nn.Linear(64, encoder_dim),\n",
    "            nn.ReLU()\n",
    "        )\n",
    "    \n",
    "    def forward(self, x):\n",
    "        return x + self.block(x)\n",
    "    \n",
    "class Encoder(nn.Module):\n",
    "    def __init__(self, input_size, encoder_dim, dropout):\n",
    "        super(Encoder, self).__init__()\n",
    "\n",
    "        self.lay1 = nn.Sequential(\n",
    "            nn.Linear(input_size, 2048),\n",
    "            nn.GELU(),\n",
    "            nn.Dropout(dropout)\n",
    "        )\n",
    "        self.lay2 = nn.Sequential(\n",
    "            nn.Linear(2048, encoder_dim),\n",
    "            nn.GELU(),\n",
    "            nn.Dropout(dropout)\n",
    "        )\n",
    "        self._residual_stack = ResidualStack(encoder_dim)\n",
    "\n",
    "    def forward(self, inputs):\n",
    "        x = self.lay1(inputs)\n",
    "        x = self.lay2(x)        \n",
    "        x = self._residual_stack(x)\n",
    "        return x \n",
    "\n",
    "class Decoder(nn.Module):\n",
    "    def __init__(self, num_embeddings, input_size, encoder_dim, dropout):\n",
    "        super(Decoder, self).__init__()\n",
    "        \n",
    "        self.lay0 = nn.Sequential(\n",
    "            nn.Linear(num_embeddings, encoder_dim),\n",
    "            nn.GELU(),\n",
    "            nn.Dropout(dropout)\n",
    "        )\n",
    "        \n",
    "        self._residual_stack = ResidualStack(encoder_dim)\n",
    "        \n",
    "        self.lay1 = nn.Sequential(\n",
    "            nn.Linear(encoder_dim, 2048),\n",
    "            nn.GELU(),\n",
    "            nn.Dropout(dropout)\n",
    "        )\n",
    "        \n",
    "        self.lay2 = nn.Sequential(\n",
    "            nn.Linear(2048, input_size),\n",
    "            nn.GELU(),\n",
    "            nn.Dropout(dropout)\n",
    "        )\n",
    "\n",
    "    def forward(self, inputs):\n",
    "        x = self.lay0(inputs)\n",
    "        x = self._residual_stack(x)\n",
    "        x = self.lay1(x)\n",
    "        x = self.lay2(x)\n",
    "        \n",
    "        return x"
   ]
  },
  {
   "cell_type": "code",
   "execution_count": 9,
   "metadata": {},
   "outputs": [],
   "source": [
    "class Model(nn.Module):\n",
    "    def __init__(self, input_size, encoder_dim, num_embeddings, embedding_dim, commitment_cost, dropout, decay=0):\n",
    "        super(Model, self).__init__()\n",
    "        \n",
    "        self._encoder = Encoder(input_size, encoder_dim, dropout)\n",
    "        \n",
    "        self._pre_vq_conv = nn.Linear(encoder_dim, num_embeddings)\n",
    "        \n",
    "        if decay > 0.0:\n",
    "            self._vq_vae = VectorQuantizerEMA(num_embeddings, embedding_dim, commitment_cost, decay)\n",
    "        else:\n",
    "            self._vq_vae = VectorQuantizer(num_embeddings, embedding_dim, commitment_cost)\n",
    "            \n",
    "        self._decoder = Decoder(num_embeddings, input_size, encoder_dim, dropout)\n",
    "\n",
    "    def forward(self, x):\n",
    "        z = self._encoder(x)\n",
    "        z = self._pre_vq_conv(z)\n",
    "        loss, quantized, perplexity, encodings, cls = self._vq_vae(z)\n",
    "        x_recon = self._decoder(quantized)\n",
    "\n",
    "        return loss, x_recon, perplexity, quantized, cls\n",
    "    \n",
    "    #quantized,cls"
   ]
  },
  {
   "cell_type": "code",
   "execution_count": 10,
   "metadata": {},
   "outputs": [],
   "source": [
    "#RIM\n",
    "def get_entropy_1D(xx):\n",
    "    return( -torch.sum(xx * torch.log(xx + 1e-8)) )\n",
    "def get_entropy_2D(xx):\n",
    "    return( -torch.sum(xx * torch.log(xx + 1e-8), dim=1) )"
   ]
  },
  {
   "cell_type": "code",
   "execution_count": 11,
   "metadata": {},
   "outputs": [
    {
     "name": "stdout",
     "output_type": "stream",
     "text": [
      "cuda:0\n"
     ]
    },
    {
     "data": {
      "text/plain": [
       "<All keys matched successfully>"
      ]
     },
     "execution_count": 11,
     "metadata": {},
     "output_type": "execute_result"
    }
   ],
   "source": [
    "DEVICE = torch.device(\"cuda:0\" if torch.cuda.is_available() else \"cpu\")\n",
    "print(DEVICE)\n",
    "\n",
    "out_dim = 512   \n",
    "VQ_VAE = Model(\n",
    "            dropout = 0.0,\n",
    "            input_size = feature_num, \n",
    "            encoder_dim = out_dim,\n",
    "            num_embeddings = 64,  \n",
    "            embedding_dim = 64,   \n",
    "            commitment_cost = 1\n",
    "           ).to(DEVICE)\n",
    "\n",
    "optimizer = optim.Adam(VQ_VAE.parameters(), lr=1e-5, amsgrad=False)\n",
    "data_variance = np.var(dat)\n"
   ]
  },
  {
   "cell_type": "code",
   "execution_count": 220,
   "metadata": {
    "scrolled": true
   },
   "outputs": [
    {
     "name": "stderr",
     "output_type": "stream",
     "text": [
      "  6%|▌         | 12/200 [00:01<00:16, 11.31it/s]"
     ]
    },
    {
     "name": "stdout",
     "output_type": "stream",
     "text": [
      "10 iterations\n",
      "recon_error: 0.885\n",
      "perplexity: 8.872\n",
      "\n"
     ]
    },
    {
     "name": "stderr",
     "output_type": "stream",
     "text": [
      " 11%|█         | 22/200 [00:01<00:15, 11.33it/s]"
     ]
    },
    {
     "name": "stdout",
     "output_type": "stream",
     "text": [
      "20 iterations\n",
      "recon_error: 0.888\n",
      "perplexity: 9.106\n",
      "\n"
     ]
    },
    {
     "name": "stderr",
     "output_type": "stream",
     "text": [
      " 16%|█▌        | 32/200 [00:02<00:14, 11.23it/s]"
     ]
    },
    {
     "name": "stdout",
     "output_type": "stream",
     "text": [
      "30 iterations\n",
      "recon_error: 0.891\n",
      "perplexity: 9.195\n",
      "\n"
     ]
    },
    {
     "name": "stderr",
     "output_type": "stream",
     "text": [
      " 21%|██        | 42/200 [00:03<00:13, 11.48it/s]"
     ]
    },
    {
     "name": "stdout",
     "output_type": "stream",
     "text": [
      "40 iterations\n",
      "recon_error: 0.894\n",
      "perplexity: 9.399\n",
      "\n"
     ]
    },
    {
     "name": "stderr",
     "output_type": "stream",
     "text": [
      " 26%|██▌       | 52/200 [00:04<00:12, 11.40it/s]"
     ]
    },
    {
     "name": "stdout",
     "output_type": "stream",
     "text": [
      "50 iterations\n",
      "recon_error: 0.893\n",
      "perplexity: 9.513\n",
      "\n"
     ]
    },
    {
     "name": "stderr",
     "output_type": "stream",
     "text": [
      " 31%|███       | 62/200 [00:05<00:12, 11.29it/s]"
     ]
    },
    {
     "name": "stdout",
     "output_type": "stream",
     "text": [
      "60 iterations\n",
      "recon_error: 0.889\n",
      "perplexity: 9.612\n",
      "\n"
     ]
    },
    {
     "name": "stderr",
     "output_type": "stream",
     "text": [
      " 36%|███▌      | 72/200 [00:06<00:11, 11.47it/s]"
     ]
    },
    {
     "name": "stdout",
     "output_type": "stream",
     "text": [
      "70 iterations\n",
      "recon_error: 0.884\n",
      "perplexity: 9.704\n",
      "\n"
     ]
    },
    {
     "name": "stderr",
     "output_type": "stream",
     "text": [
      " 41%|████      | 82/200 [00:07<00:10, 11.27it/s]"
     ]
    },
    {
     "name": "stdout",
     "output_type": "stream",
     "text": [
      "80 iterations\n",
      "recon_error: 0.878\n",
      "perplexity: 9.735\n",
      "\n"
     ]
    },
    {
     "name": "stderr",
     "output_type": "stream",
     "text": [
      " 46%|████▌     | 92/200 [00:08<00:09, 11.52it/s]"
     ]
    },
    {
     "name": "stdout",
     "output_type": "stream",
     "text": [
      "90 iterations\n",
      "recon_error: 0.874\n",
      "perplexity: 9.779\n",
      "\n"
     ]
    },
    {
     "name": "stderr",
     "output_type": "stream",
     "text": [
      " 51%|█████     | 102/200 [00:08<00:08, 11.16it/s]"
     ]
    },
    {
     "name": "stdout",
     "output_type": "stream",
     "text": [
      "100 iterations\n",
      "recon_error: 0.871\n",
      "perplexity: 9.774\n",
      "\n"
     ]
    },
    {
     "name": "stderr",
     "output_type": "stream",
     "text": [
      " 56%|█████▌    | 112/200 [00:09<00:07, 11.32it/s]"
     ]
    },
    {
     "name": "stdout",
     "output_type": "stream",
     "text": [
      "110 iterations\n",
      "recon_error: 0.869\n",
      "perplexity: 9.840\n",
      "\n"
     ]
    },
    {
     "name": "stderr",
     "output_type": "stream",
     "text": [
      " 61%|██████    | 122/200 [00:10<00:06, 11.16it/s]"
     ]
    },
    {
     "name": "stdout",
     "output_type": "stream",
     "text": [
      "120 iterations\n",
      "recon_error: 0.866\n",
      "perplexity: 9.846\n",
      "\n"
     ]
    },
    {
     "name": "stderr",
     "output_type": "stream",
     "text": [
      " 66%|██████▌   | 132/200 [00:11<00:06, 11.15it/s]"
     ]
    },
    {
     "name": "stdout",
     "output_type": "stream",
     "text": [
      "130 iterations\n",
      "recon_error: 0.865\n",
      "perplexity: 9.916\n",
      "\n"
     ]
    },
    {
     "name": "stderr",
     "output_type": "stream",
     "text": [
      " 71%|███████   | 142/200 [00:12<00:05, 11.32it/s]"
     ]
    },
    {
     "name": "stdout",
     "output_type": "stream",
     "text": [
      "140 iterations\n",
      "recon_error: 0.862\n",
      "perplexity: 9.990\n",
      "\n"
     ]
    },
    {
     "name": "stderr",
     "output_type": "stream",
     "text": [
      " 76%|███████▌  | 152/200 [00:13<00:04, 11.60it/s]"
     ]
    },
    {
     "name": "stdout",
     "output_type": "stream",
     "text": [
      "150 iterations\n",
      "recon_error: 0.860\n",
      "perplexity: 10.109\n",
      "\n"
     ]
    },
    {
     "name": "stderr",
     "output_type": "stream",
     "text": [
      " 81%|████████  | 162/200 [00:14<00:03, 11.08it/s]"
     ]
    },
    {
     "name": "stdout",
     "output_type": "stream",
     "text": [
      "160 iterations\n",
      "recon_error: 0.859\n",
      "perplexity: 10.206\n",
      "\n"
     ]
    },
    {
     "name": "stderr",
     "output_type": "stream",
     "text": [
      " 86%|████████▌ | 172/200 [00:15<00:02, 11.60it/s]"
     ]
    },
    {
     "name": "stdout",
     "output_type": "stream",
     "text": [
      "170 iterations\n",
      "recon_error: 0.858\n",
      "perplexity: 10.247\n",
      "\n"
     ]
    },
    {
     "name": "stderr",
     "output_type": "stream",
     "text": [
      " 91%|█████████ | 182/200 [00:16<00:01, 11.48it/s]"
     ]
    },
    {
     "name": "stdout",
     "output_type": "stream",
     "text": [
      "180 iterations\n",
      "recon_error: 0.857\n",
      "perplexity: 10.205\n",
      "\n"
     ]
    },
    {
     "name": "stderr",
     "output_type": "stream",
     "text": [
      " 96%|█████████▌| 192/200 [00:16<00:00, 11.48it/s]"
     ]
    },
    {
     "name": "stdout",
     "output_type": "stream",
     "text": [
      "190 iterations\n",
      "recon_error: 0.856\n",
      "perplexity: 10.127\n",
      "\n"
     ]
    },
    {
     "name": "stderr",
     "output_type": "stream",
     "text": [
      "100%|██████████| 200/200 [00:17<00:00, 11.36it/s]"
     ]
    },
    {
     "name": "stdout",
     "output_type": "stream",
     "text": [
      "200 iterations\n",
      "recon_error: 0.856\n",
      "perplexity: 10.065\n",
      "\n"
     ]
    },
    {
     "name": "stderr",
     "output_type": "stream",
     "text": [
      "\n"
     ]
    }
   ],
   "source": [
    "EPOCH = 200\n",
    "train_res_recon_error = []\n",
    "train_res_perplexity = []\n",
    "\n",
    "VQ_VAE.train()\n",
    "\n",
    "get_Marg_code_list=list()\n",
    "get_Cond_code_list=list()\n",
    "\n",
    "for epoch in tqdm.tqdm(range(EPOCH)):\n",
    "    running_loss = 0.0\n",
    "    count=0\n",
    "    quantized_merge = torch.empty(0,1,64).to(DEVICE)\n",
    "    for _, inputs in enumerate(train_dataloader, 0):\n",
    "        \n",
    "        optimizer.zero_grad()\n",
    "        inputs = inputs.to(DEVICE)\n",
    "        \n",
    "#         #pruning\n",
    "#         for i in range(len(parameters_to_prune)):\n",
    "#             prune.random_unstructured(parameters_to_prune[i], 'weight', amount=0.5)\n",
    "#             prune.remove(parameters_to_prune[i], 'weight')\n",
    "        \n",
    "        #loss, x_recon, perplexity, quantized, cls       \n",
    "        vq_loss, data_recon, perplexity, quantized, cls = VQ_VAE(inputs)\n",
    "        recon_error = F.mse_loss(data_recon, inputs) / data_variance\n",
    "#         print('recon_error:',recon_error)\n",
    "#         print('vq_loss:',vq_loss)\n",
    "        \n",
    "        codesof = torch.nn.functional.softmax(cls.reshape(len(cls), -1), dim = 1)\n",
    "        codemean = torch.mean(codesof, dim = 0, keepdim = True)\n",
    "        \n",
    "        Marg_code = get_entropy_1D(codemean)\n",
    "        Cond_code = torch.mean(get_entropy_2D(codesof))\n",
    "        \n",
    "        get_Marg_code=Marg_code.to('cpu')\n",
    "        get_Marg_code=get_Marg_code.tolist()\n",
    "        get_Marg_code_list.append(get_Marg_code)\n",
    "        get_Cond_code=Cond_code.to('cpu')\n",
    "        get_Cond_code=get_Cond_code.tolist()\n",
    "        get_Cond_code_list.append(get_Cond_code)\n",
    "        \n",
    "        loss = recon_error + vq_loss + Marg_code - Cond_code\n",
    "        loss.backward()\n",
    "        optimizer.step()\n",
    "\n",
    "        train_res_recon_error.append(recon_error.item())\n",
    "        train_res_perplexity.append(perplexity.item())\n",
    "\n",
    "    if (epoch+1) % 10 == 0:\n",
    "        print('%d iterations' % (epoch+1))\n",
    "        print('recon_error: %.3f' % np.mean(train_res_recon_error[-100:]))\n",
    "        print('perplexity: %.3f' % np.mean(train_res_perplexity[-100:]))\n",
    "        print()"
   ]
  },
  {
   "cell_type": "code",
   "execution_count": 221,
   "metadata": {},
   "outputs": [
    {
     "name": "stdout",
     "output_type": "stream",
     "text": [
      "1.609420039455096\n",
      "1.6094090449810028\n"
     ]
    }
   ],
   "source": [
    "print(np.mean(get_Marg_code_list))\n",
    "print(np.mean(get_Cond_code_list))"
   ]
  },
  {
   "cell_type": "code",
   "execution_count": null,
   "metadata": {
    "scrolled": false
   },
   "outputs": [],
   "source": [
    "train_res_recon_error_smooth = savgol_filter(train_res_recon_error, 201, 7)\n",
    "train_res_perplexity_smooth = savgol_filter(train_res_perplexity, 201, 7)\n",
    "\n",
    "f = plt.figure(figsize=(16,8))\n",
    "ax = f.add_subplot(1,2,1)\n",
    "ax.plot(train_res_recon_error_smooth)\n",
    "ax.set_yscale('log')\n",
    "ax.set_title('Smoothed NMSE')\n",
    "ax.set_xlabel('iteration')\n",
    "\n",
    "ax = f.add_subplot(1,2,2) \n",
    "ax.plot(train_res_perplexity_smooth)\n",
    "ax.set_title('Smoothed Average codebook usage (perplexity)')\n",
    "ax.set_xlabel('iteration')"
   ]
  },
  {
   "cell_type": "code",
   "execution_count": 224,
   "metadata": {},
   "outputs": [],
   "source": [
    "NMSE_list = pd.DataFrame(train_res_recon_error_smooth)\n",
    "ACU_list = pd.DataFrame(train_res_perplexity_smooth)"
   ]
  },
  {
   "cell_type": "markdown",
   "metadata": {},
   "source": [
    "# unlabeled-data clustring test"
   ]
  },
  {
   "cell_type": "code",
   "execution_count": 12,
   "metadata": {},
   "outputs": [
    {
     "name": "stdout",
     "output_type": "stream",
     "text": [
      "encode_out: (638, 512)\n",
      "quantized_out: (638, 64)\n",
      "cls_out: (638, 5)\n",
      "cls: (638,)\n"
     ]
    }
   ],
   "source": [
    "en_lat = []\n",
    "en_quantized = []\n",
    "cls_list = []\n",
    "\n",
    "for i in range(len(dat)):\n",
    "    en_data = train_dataloader.dataset[i][0]\n",
    "    latent_1 = VQ_VAE._encoder(en_data.view(1, 1, feature_num).float().to(DEVICE))\n",
    "    _, _, _, latent_2, cls = VQ_VAE(en_data.view(1, 1, feature_num).float().to(DEVICE))\n",
    "    en_lat.append(latent_1.cpu().detach().numpy())\n",
    "    en_quantized.append(latent_2.cpu().detach().numpy())\n",
    "    cls_list.append(cls.cpu().detach().numpy())\n",
    "encode_out = np.array(en_lat)\n",
    "encode_out = encode_out.reshape(len(dat), -1)\n",
    "quantized_out = np.array(en_quantized)\n",
    "quantized_out = quantized_out.reshape(len(dat), -1)\n",
    "cls_list_out = np.array(cls_list)\n",
    "cls_list_out = cls_list_out.reshape(len(dat), -1)\n",
    "save_cls = cls_list_out\n",
    "cls = np.argmax((cls_list_out == cls_list_out.max(axis=1)[:,None]).astype(int),axis=1)\n",
    "print('encode_out:', encode_out.shape)\n",
    "print('quantized_out:', quantized_out.shape)\n",
    "print('cls_out:', cls_list_out.shape)\n",
    "print('cls:', cls.shape)"
   ]
  },
  {
   "cell_type": "code",
   "execution_count": 14,
   "metadata": {},
   "outputs": [
    {
     "name": "stdout",
     "output_type": "stream",
     "text": [
      "   cluster\n",
      "2      249\n",
      "0      151\n",
      "4      122\n",
      "3       93\n",
      "1       23\n"
     ]
    },
    {
     "data": {
      "text/html": [
       "<div>\n",
       "<style scoped>\n",
       "    .dataframe tbody tr th:only-of-type {\n",
       "        vertical-align: middle;\n",
       "    }\n",
       "\n",
       "    .dataframe tbody tr th {\n",
       "        vertical-align: top;\n",
       "    }\n",
       "\n",
       "    .dataframe thead th {\n",
       "        text-align: right;\n",
       "    }\n",
       "</style>\n",
       "<table border=\"1\" class=\"dataframe\">\n",
       "  <thead>\n",
       "    <tr style=\"text-align: right;\">\n",
       "      <th></th>\n",
       "      <th>cluster</th>\n",
       "    </tr>\n",
       "  </thead>\n",
       "  <tbody>\n",
       "    <tr>\n",
       "      <th>0</th>\n",
       "      <td>2</td>\n",
       "    </tr>\n",
       "    <tr>\n",
       "      <th>1</th>\n",
       "      <td>2</td>\n",
       "    </tr>\n",
       "    <tr>\n",
       "      <th>2</th>\n",
       "      <td>3</td>\n",
       "    </tr>\n",
       "    <tr>\n",
       "      <th>3</th>\n",
       "      <td>2</td>\n",
       "    </tr>\n",
       "    <tr>\n",
       "      <th>4</th>\n",
       "      <td>2</td>\n",
       "    </tr>\n",
       "    <tr>\n",
       "      <th>...</th>\n",
       "      <td>...</td>\n",
       "    </tr>\n",
       "    <tr>\n",
       "      <th>633</th>\n",
       "      <td>2</td>\n",
       "    </tr>\n",
       "    <tr>\n",
       "      <th>634</th>\n",
       "      <td>2</td>\n",
       "    </tr>\n",
       "    <tr>\n",
       "      <th>635</th>\n",
       "      <td>2</td>\n",
       "    </tr>\n",
       "    <tr>\n",
       "      <th>636</th>\n",
       "      <td>2</td>\n",
       "    </tr>\n",
       "    <tr>\n",
       "      <th>637</th>\n",
       "      <td>3</td>\n",
       "    </tr>\n",
       "  </tbody>\n",
       "</table>\n",
       "<p>638 rows × 1 columns</p>\n",
       "</div>"
      ],
      "text/plain": [
       "     cluster\n",
       "0          2\n",
       "1          2\n",
       "2          3\n",
       "3          2\n",
       "4          2\n",
       "..       ...\n",
       "633        2\n",
       "634        2\n",
       "635        2\n",
       "636        2\n",
       "637        3\n",
       "\n",
       "[638 rows x 1 columns]"
      ]
     },
     "execution_count": 14,
     "metadata": {},
     "output_type": "execute_result"
    }
   ],
   "source": [
    "cluster_result = pd.DataFrame(cls, columns=['cluster'])\n",
    "print(cluster_result.apply(pd.value_counts))\n",
    "cluster_result"
   ]
  },
  {
   "cell_type": "code",
   "execution_count": null,
   "metadata": {},
   "outputs": [],
   "source": [
    "latent_Z = encode_out\n",
    "\n",
    "tsne = TSNE(early_exaggeration=50,\n",
    "              learning_rate=500, \n",
    "              perplexity=10, \n",
    "              min_grad_norm=1e-7, \n",
    "              n_iter=1000,\n",
    "              n_components=2).fit_transform(latent_Z)\n",
    "x_min, x_max = np.min(tsne, 0), np.max(tsne, 0)\n",
    "tsne = tsne / (x_max - x_min)\n",
    "print('TSNE_out:', tsne.shape)"
   ]
  },
  {
   "cell_type": "code",
   "execution_count": 16,
   "metadata": {},
   "outputs": [
    {
     "data": {
      "text/html": [
       "<div>\n",
       "<style scoped>\n",
       "    .dataframe tbody tr th:only-of-type {\n",
       "        vertical-align: middle;\n",
       "    }\n",
       "\n",
       "    .dataframe tbody tr th {\n",
       "        vertical-align: top;\n",
       "    }\n",
       "\n",
       "    .dataframe thead th {\n",
       "        text-align: right;\n",
       "    }\n",
       "</style>\n",
       "<table border=\"1\" class=\"dataframe\">\n",
       "  <thead>\n",
       "    <tr style=\"text-align: right;\">\n",
       "      <th></th>\n",
       "      <th>TSNE_Dim1</th>\n",
       "      <th>TSNE_Dim2</th>\n",
       "    </tr>\n",
       "  </thead>\n",
       "  <tbody>\n",
       "    <tr>\n",
       "      <th>0</th>\n",
       "      <td>0.173272</td>\n",
       "      <td>0.211769</td>\n",
       "    </tr>\n",
       "    <tr>\n",
       "      <th>1</th>\n",
       "      <td>-0.201734</td>\n",
       "      <td>0.124717</td>\n",
       "    </tr>\n",
       "    <tr>\n",
       "      <th>2</th>\n",
       "      <td>-0.579486</td>\n",
       "      <td>0.134502</td>\n",
       "    </tr>\n",
       "    <tr>\n",
       "      <th>3</th>\n",
       "      <td>0.037223</td>\n",
       "      <td>0.198435</td>\n",
       "    </tr>\n",
       "    <tr>\n",
       "      <th>4</th>\n",
       "      <td>0.092690</td>\n",
       "      <td>0.193654</td>\n",
       "    </tr>\n",
       "    <tr>\n",
       "      <th>...</th>\n",
       "      <td>...</td>\n",
       "      <td>...</td>\n",
       "    </tr>\n",
       "    <tr>\n",
       "      <th>633</th>\n",
       "      <td>0.048091</td>\n",
       "      <td>0.238473</td>\n",
       "    </tr>\n",
       "    <tr>\n",
       "      <th>634</th>\n",
       "      <td>0.283746</td>\n",
       "      <td>0.148078</td>\n",
       "    </tr>\n",
       "    <tr>\n",
       "      <th>635</th>\n",
       "      <td>0.108748</td>\n",
       "      <td>0.156376</td>\n",
       "    </tr>\n",
       "    <tr>\n",
       "      <th>636</th>\n",
       "      <td>0.008557</td>\n",
       "      <td>0.197228</td>\n",
       "    </tr>\n",
       "    <tr>\n",
       "      <th>637</th>\n",
       "      <td>-0.578545</td>\n",
       "      <td>0.125148</td>\n",
       "    </tr>\n",
       "  </tbody>\n",
       "</table>\n",
       "<p>638 rows × 2 columns</p>\n",
       "</div>"
      ],
      "text/plain": [
       "     TSNE_Dim1  TSNE_Dim2\n",
       "0     0.173272   0.211769\n",
       "1    -0.201734   0.124717\n",
       "2    -0.579486   0.134502\n",
       "3     0.037223   0.198435\n",
       "4     0.092690   0.193654\n",
       "..         ...        ...\n",
       "633   0.048091   0.238473\n",
       "634   0.283746   0.148078\n",
       "635   0.108748   0.156376\n",
       "636   0.008557   0.197228\n",
       "637  -0.578545   0.125148\n",
       "\n",
       "[638 rows x 2 columns]"
      ]
     },
     "execution_count": 16,
     "metadata": {},
     "output_type": "execute_result"
    }
   ],
   "source": [
    "True_labels = pd.read_csv('label.csv', header=0)\n",
    "TSNE_result = pd.DataFrame(tsne, columns=['TSNE_Dim1', 'TSNE_Dim2'])\n",
    "TSNE_result['Subtype'] = True_labels\n",
    "Subtype = TSNE_result.pop(\"Subtype\")\n",
    "TSNE_result"
   ]
  },
  {
   "cell_type": "code",
   "execution_count": null,
   "metadata": {
    "scrolled": false
   },
   "outputs": [],
   "source": [
    "plt.figure(figsize=(10,10))\n",
    "\n",
    "sbt_5 = ['#67875A','#E3E4DC','#A51D1F','#34090C','#C15C81']\n",
    "sbt_4 = ['#e53935','#8e24aa','#039be5','#fdd835']\n",
    "sbt_3 = ['#e53935','#8e24aa','#039be5']\n",
    "\n",
    "lut = dict(zip(Subtype.unique(), sbt_5))\n",
    "row_colors = Subtype.map(lut)\n",
    "\n",
    "#normlize(0,1)\n",
    "x_min, x_max = np.min(quantized_out, 0), np.max(quantized_out, 0)\n",
    "quantized_out = quantized_out / (x_max - x_min)\n",
    "\n",
    "sns.clustermap(pd.DataFrame(quantized_out), row_colors=row_colors,cmap=\"mako\")\n",
    "handles = [Patch(facecolor=lut[name]) for name in lut]\n",
    "L = plt.legend(handles, lut, \n",
    "           title='Subtype',\n",
    "           loc = (0.9,0.1),\n",
    "           title_fontsize = 15, fontsize = 12, borderaxespad = 1,\n",
    "           bbox_transform=plt.gcf().transFigure,\n",
    "           frameon=False)\n",
    "# L.get_texts()[0].set_text('Basal-like')\n",
    "# L.get_texts()[1].set_text('HER2-enriched')\n",
    "# L.get_texts()[2].set_text('Luminal A')\n",
    "# L.get_texts()[3].set_text('Luminal B')\n",
    "# L.get_texts()[4].set_text('Normal-like')\n"
   ]
  },
  {
   "cell_type": "code",
   "execution_count": 25,
   "metadata": {},
   "outputs": [],
   "source": [
    "True_labels = pd.read_csv('BRCA-label_num_5.csv', header=0)\n",
    "TSNE_result = pd.DataFrame(tsne, columns=['TSNE_Dim1', 'TSNE_Dim2'])\n",
    "TSNE_result['Subtype'] = True_labels\n",
    "#TSNE_result['Subtype'] = cluster_result['cluster']"
   ]
  },
  {
   "cell_type": "code",
   "execution_count": 26,
   "metadata": {},
   "outputs": [
    {
     "name": "stdout",
     "output_type": "stream",
     "text": [
      "[0.52072674 0.1463044 ]\n",
      "[312.34805  87.75792]\n",
      "pca_result: (638, 2)\n"
     ]
    },
    {
     "data": {
      "image/png": "[encoded data removed]",
      "text/plain": [
       "<Figure size 720x720 with 1 Axes>"
      ]
     },
     "metadata": {},
     "output_type": "display_data"
    }
   ],
   "source": [
    "#change cluster color\n",
    "ones = cluster_result == 4\n",
    "zeros = cluster_result == 0\n",
    "cluster_result[ones] = 0\n",
    "cluster_result[zeros] = 4\n",
    "\n",
    "\n",
    "#PCA of learened feature\n",
    "pca = PCA(n_components=2)\n",
    "pca.fit(latent_Z)\n",
    "print(pca.explained_variance_ratio_)\n",
    "print(pca.explained_variance_)\n",
    "pca_result = pca.transform(latent_Z)\n",
    "#normlize(0,1)\n",
    "x_min, x_max = np.min(pca_result, 0), np.max(pca_result, 0)\n",
    "pca_result = pca_result / (x_max - x_min)\n",
    "\n",
    "print('pca_result:',pca_result.shape)\n",
    "sns.set(style='darkgrid',context='notebook')\n",
    "plt.figure(figsize=(10, 10)) \n",
    "a = plt.scatter(pca_result[:, 0], pca_result[:, 1], marker='o', c=TSNE_result['Subtype'],cmap='Accent',s=20)\n",
    "L = plt.legend(*a.legend_elements(),\n",
    "           borderaxespad = 1,\n",
    "           title_fontsize = 22,\n",
    "           fontsize = 21,\n",
    "           loc=\"upper right\", \n",
    "           title=\"Subtype\")\n",
    "\n",
    "#IDH mut-codel IDH mut-noncodel IDH wild-type\n",
    "#Differentiated Immunoreactive Mesenchymal Proliferative\n",
    "\n",
    "\n",
    "L.get_texts()[0].set_text('Cluster A')\n",
    "L.get_texts()[1].set_text('Cluster B')\n",
    "L.get_texts()[2].set_text('Cluster C')\n",
    "L.get_texts()[3].set_text('Cluster D')\n",
    "L.get_texts()[4].set_text('Cluster E')\n",
    "\n",
    "plt.xlabel(\" \", size=24)  \n",
    "plt.ylabel(\" \", size=24)\n",
    "plt.tick_params(axis='x', which='both', labelsize=36)\n",
    "plt.tick_params(axis='y', which='both', labelsize=36)\n"
   ]
  },
  {
   "cell_type": "code",
   "execution_count": null,
   "metadata": {},
   "outputs": [],
   "source": []
  }
 ],
 "metadata": {
  "kernelspec": {
   "display_name": "Python 3",
   "language": "python",
   "name": "python3"
  },
  "language_info": {
   "codemirror_mode": {
    "name": "ipython",
    "version": 3
   },
   "file_extension": ".py",
   "mimetype": "text/x-python",
   "name": "python",
   "nbconvert_exporter": "python",
   "pygments_lexer": "ipython3",
   "version": "3.8.8"
  }
 },
 "nbformat": 4,
 "nbformat_minor": 4
}
